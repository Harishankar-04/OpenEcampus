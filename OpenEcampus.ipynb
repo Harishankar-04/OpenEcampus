{
 "cells": [
  {
   "cell_type": "code",
   "execution_count": null,
   "metadata": {},
   "outputs": [],
   "source": [
    "from selenium import webdriver\n",
    "from time import sleep\n",
    "\n",
    "browser = webdriver.Chrome(executable_path=\"C:\\\\Users\\\\91890\\\\Documents\\\\Selenium\\\\chromedriver.exe\")\n",
    "\n",
    "browser.implicitly_wait(1)\n",
    "\n",
    "browser.get('https://ecampus.psgtech.ac.in/studzone2/')\n",
    "\n",
    "sleep(1)\n",
    "\n",
    "username_input = browser.find_element_by_id(\"txtusercheck\")\n",
    "password_input = browser.find_element_by_id(\"txtpwdcheck\")\n",
    "\n",
    "username_input.send_keys(\"Enter Your Roll number\")\n",
    "password_input.send_keys(\"Enter your password\")\n",
    "\n",
    "login_button = browser.find_element_by_id(\"abcd3\")\n",
    "login_button.click()\n",
    "\n",
    "sleep(9999)\n",
    "\n",
    "browser.close()"
   ]
  }
 ],
 "metadata": {
  "kernelspec": {
   "display_name": "Python 3",
   "language": "python",
   "name": "python3"
  },
  "language_info": {
   "codemirror_mode": {
    "name": "ipython",
    "version": 3
   },
   "file_extension": ".py",
   "mimetype": "text/x-python",
   "name": "python",
   "nbconvert_exporter": "python",
   "pygments_lexer": "ipython3",
   "version": "3.8.3"
  }
 },
 "nbformat": 4,
 "nbformat_minor": 4
}
